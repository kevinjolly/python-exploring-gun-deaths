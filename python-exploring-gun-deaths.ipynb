{
 "cells": [
  {
   "cell_type": "markdown",
   "metadata": {},
   "source": [
    "# Exploring Gun Deaths in the U.S\n",
    "\n",
    "\n",
    "This project is aimed at exploring the gun deaths in the U.S by finding patterns in the demographics. \n",
    "\n",
    "The data for the project can be found [here](https://github.com/fivethirtyeight/guns-data/blob/master/full_data.csv)"
   ]
  },
  {
   "cell_type": "markdown",
   "metadata": {},
   "source": [
    "The first step is to import the file into a list of lists using the csv module as shown below:"
   ]
  },
  {
   "cell_type": "code",
   "execution_count": 2,
   "metadata": {
    "collapsed": true
   },
   "outputs": [],
   "source": [
    "import csv\n",
    "with open(\"gun.csv\") as f:\n",
    "    file = csv.reader(f)\n",
    "    data = list(file)"
   ]
  },
  {
   "cell_type": "code",
   "execution_count": 3,
   "metadata": {},
   "outputs": [
    {
     "data": {
      "text/plain": [
       "[['',\n",
       "  'year',\n",
       "  'month',\n",
       "  'intent',\n",
       "  'police',\n",
       "  'sex',\n",
       "  'age',\n",
       "  'race',\n",
       "  'hispanic',\n",
       "  'place',\n",
       "  'education'],\n",
       " ['1',\n",
       "  '2012',\n",
       "  '01',\n",
       "  'Suicide',\n",
       "  '0',\n",
       "  'M',\n",
       "  '34',\n",
       "  'Asian/Pacific Islander',\n",
       "  '100',\n",
       "  'Home',\n",
       "  'BA+'],\n",
       " ['2',\n",
       "  '2012',\n",
       "  '01',\n",
       "  'Suicide',\n",
       "  '0',\n",
       "  'F',\n",
       "  '21',\n",
       "  'White',\n",
       "  '100',\n",
       "  'Street',\n",
       "  'Some college'],\n",
       " ['3',\n",
       "  '2012',\n",
       "  '01',\n",
       "  'Suicide',\n",
       "  '0',\n",
       "  'M',\n",
       "  '60',\n",
       "  'White',\n",
       "  '100',\n",
       "  'Other specified',\n",
       "  'BA+'],\n",
       " ['4', '2012', '02', 'Suicide', '0', 'M', '64', 'White', '100', 'Home', 'BA+']]"
      ]
     },
     "execution_count": 3,
     "metadata": {},
     "output_type": "execute_result"
    }
   ],
   "source": [
    "#Listing the first 5 rows of the data:\n",
    "\n",
    "data[:5]"
   ]
  },
  {
   "cell_type": "markdown",
   "metadata": {},
   "source": [
    "The next step is to ensure that we extract the header row from the data and put it into \n",
    "a seprate list while the data itself is in another list so that we can extract insights\n",
    "from the data alone minus the header row.\n",
    "\n",
    "We can do this using the code shown below:"
   ]
  },
  {
   "cell_type": "code",
   "execution_count": 4,
   "metadata": {},
   "outputs": [
    {
     "data": {
      "text/plain": [
       "['',\n",
       " 'year',\n",
       " 'month',\n",
       " 'intent',\n",
       " 'police',\n",
       " 'sex',\n",
       " 'age',\n",
       " 'race',\n",
       " 'hispanic',\n",
       " 'place',\n",
       " 'education']"
      ]
     },
     "execution_count": 4,
     "metadata": {},
     "output_type": "execute_result"
    }
   ],
   "source": [
    "#Extracting the header row\n",
    "\n",
    "header = data[0]\n",
    "\n",
    "#Verifying the header row\n",
    "header"
   ]
  },
  {
   "cell_type": "code",
   "execution_count": 6,
   "metadata": {},
   "outputs": [],
   "source": [
    "#Storing the rest of the data minus the header row \n",
    "\n",
    "data_list = data[1:]"
   ]
  },
  {
   "cell_type": "markdown",
   "metadata": {},
   "source": [
    "## Exploring gun deaths by time period\n",
    "\n",
    "The **year** column contains information on how many gun deaths took place every year. \n",
    "We can use this column to calculate information about:\n",
    "\n",
    "- The number of gun deaths that have taken place each year.\n"
   ]
  },
  {
   "cell_type": "code",
   "execution_count": 7,
   "metadata": {},
   "outputs": [],
   "source": [
    "#Extracting the year column using list comprehension\n",
    "\n",
    "years = [row[1] for row in data_list]"
   ]
  },
  {
   "cell_type": "code",
   "execution_count": 8,
   "metadata": {
    "collapsed": true
   },
   "outputs": [],
   "source": [
    "#Creating an empty dictionary to store the counts of the gun deaths by year\n",
    "\n",
    "year_counts = {}\n",
    "\n",
    "for year in years:\n",
    "    if year in year_counts:\n",
    "        year_counts[year] = year_counts[year] + 1\n",
    "    else:\n",
    "        year_counts[year] = 1"
   ]
  },
  {
   "cell_type": "code",
   "execution_count": 9,
   "metadata": {},
   "outputs": [
    {
     "data": {
      "text/plain": [
       "{'2012': 33563, '2013': 33636, '2014': 33599}"
      ]
     },
     "execution_count": 9,
     "metadata": {},
     "output_type": "execute_result"
    }
   ],
   "source": [
    "#Exploring the gun deaths by year\n",
    "\n",
    "year_counts"
   ]
  },
  {
   "cell_type": "markdown",
   "metadata": {},
   "source": [
    "From the data above we can see that:\n",
    "\n",
    "- Gun deaths were highest in 2013 \n",
    "- While Gun deaths were lowest. in 2012"
   ]
  },
  {
   "cell_type": "markdown",
   "metadata": {},
   "source": [
    "However we do observe that the number of gun deaths does not increase very significantly between\n",
    "every year. In order to extract better insights let's extract tbe gun deaths on a monhtly basis for \n",
    "each year."
   ]
  },
  {
   "cell_type": "code",
   "execution_count": 22,
   "metadata": {
    "collapsed": true
   },
   "outputs": [],
   "source": [
    "#Extracting the months using the datetime package and a list comprehension\n",
    "\n",
    "import datetime\n",
    "\n",
    "dates = [datetime.datetime(year = int(row[1]), month = int(row[2]), day = 1)for row in data_list]"
   ]
  },
  {
   "cell_type": "code",
   "execution_count": 23,
   "metadata": {},
   "outputs": [
    {
     "data": {
      "text/plain": [
       "[datetime.datetime(2012, 1, 1, 0, 0),\n",
       " datetime.datetime(2012, 1, 1, 0, 0),\n",
       " datetime.datetime(2012, 1, 1, 0, 0),\n",
       " datetime.datetime(2012, 2, 1, 0, 0),\n",
       " datetime.datetime(2012, 2, 1, 0, 0)]"
      ]
     },
     "execution_count": 23,
     "metadata": {},
     "output_type": "execute_result"
    }
   ],
   "source": [
    "#Verifying the dates \n",
    "\n",
    "dates[:5]"
   ]
  },
  {
   "cell_type": "markdown",
   "metadata": {},
   "source": [
    "Thus we see that the variable **dates** holds the dates in the datetime format for \n",
    "us to work with."
   ]
  },
  {
   "cell_type": "code",
   "execution_count": 24,
   "metadata": {
    "collapsed": true
   },
   "outputs": [],
   "source": [
    "#Creating a dictionary to hold the counts of gun deaths by month of the year\n",
    "\n",
    "date_counts = {}\n",
    "\n",
    "for date in dates:\n",
    "    if date in date_counts:\n",
    "        date_counts[date] = date_counts[date] + 1\n",
    "    else:\n",
    "        date_counts[date] = 1"
   ]
  },
  {
   "cell_type": "code",
   "execution_count": 27,
   "metadata": {},
   "outputs": [
    {
     "data": {
      "text/plain": [
       "{datetime.datetime(2012, 1, 1, 0, 0): 2758,\n",
       " datetime.datetime(2012, 2, 1, 0, 0): 2357,\n",
       " datetime.datetime(2012, 3, 1, 0, 0): 2743,\n",
       " datetime.datetime(2012, 4, 1, 0, 0): 2795,\n",
       " datetime.datetime(2012, 5, 1, 0, 0): 2999,\n",
       " datetime.datetime(2012, 6, 1, 0, 0): 2826,\n",
       " datetime.datetime(2012, 7, 1, 0, 0): 3026,\n",
       " datetime.datetime(2012, 8, 1, 0, 0): 2954,\n",
       " datetime.datetime(2012, 9, 1, 0, 0): 2852,\n",
       " datetime.datetime(2012, 10, 1, 0, 0): 2733,\n",
       " datetime.datetime(2012, 11, 1, 0, 0): 2729,\n",
       " datetime.datetime(2012, 12, 1, 0, 0): 2791,\n",
       " datetime.datetime(2013, 1, 1, 0, 0): 2864,\n",
       " datetime.datetime(2013, 2, 1, 0, 0): 2375,\n",
       " datetime.datetime(2013, 3, 1, 0, 0): 2862,\n",
       " datetime.datetime(2013, 4, 1, 0, 0): 2798,\n",
       " datetime.datetime(2013, 5, 1, 0, 0): 2806,\n",
       " datetime.datetime(2013, 6, 1, 0, 0): 2920,\n",
       " datetime.datetime(2013, 7, 1, 0, 0): 3079,\n",
       " datetime.datetime(2013, 8, 1, 0, 0): 2859,\n",
       " datetime.datetime(2013, 9, 1, 0, 0): 2742,\n",
       " datetime.datetime(2013, 10, 1, 0, 0): 2808,\n",
       " datetime.datetime(2013, 11, 1, 0, 0): 2758,\n",
       " datetime.datetime(2013, 12, 1, 0, 0): 2765,\n",
       " datetime.datetime(2014, 1, 1, 0, 0): 2651,\n",
       " datetime.datetime(2014, 2, 1, 0, 0): 2361,\n",
       " datetime.datetime(2014, 3, 1, 0, 0): 2684,\n",
       " datetime.datetime(2014, 4, 1, 0, 0): 2862,\n",
       " datetime.datetime(2014, 5, 1, 0, 0): 2864,\n",
       " datetime.datetime(2014, 6, 1, 0, 0): 2931,\n",
       " datetime.datetime(2014, 7, 1, 0, 0): 2884,\n",
       " datetime.datetime(2014, 8, 1, 0, 0): 2970,\n",
       " datetime.datetime(2014, 9, 1, 0, 0): 2914,\n",
       " datetime.datetime(2014, 10, 1, 0, 0): 2865,\n",
       " datetime.datetime(2014, 11, 1, 0, 0): 2756,\n",
       " datetime.datetime(2014, 12, 1, 0, 0): 2857}"
      ]
     },
     "execution_count": 27,
     "metadata": {},
     "output_type": "execute_result"
    }
   ],
   "source": [
    "#Displaying the results\n",
    "\n",
    "date_counts"
   ]
  },
  {
   "cell_type": "markdown",
   "metadata": {},
   "source": [
    "From the data above:\n",
    "    \n",
    "- Gun deaths have been **high** in the month of **July** in the season of summer,. This could be due to the fact that \n",
    "  festivals, concerts and other public events where the possibility of a gun deaths is \n",
    "  at it's peak \n",
    "- Gun deaths are **lowest** in **Febuary**. This could be due to that fact that Febuary has lesser number of days\n",
    "  compared to the other months."
   ]
  },
  {
   "cell_type": "markdown",
   "metadata": {},
   "source": [
    "## Exploring Gun Deaths by Race and Gender\n",
    "\n",
    "In the section below we explore the gun deaths by race and gender to see if there are\n",
    "some interesting patterns that develop as a result: "
   ]
  },
  {
   "cell_type": "code",
   "execution_count": 10,
   "metadata": {},
   "outputs": [],
   "source": [
    "#Creating a list of races\n",
    "\n",
    "races = [row[7] for row in data_list]"
   ]
  },
  {
   "cell_type": "code",
   "execution_count": 11,
   "metadata": {},
   "outputs": [
    {
     "data": {
      "text/plain": [
       "{'Asian/Pacific Islander': 1326,\n",
       " 'Black': 23296,\n",
       " 'Hispanic': 9022,\n",
       " 'Native American/Native Alaskan': 917,\n",
       " 'White': 66237}"
      ]
     },
     "execution_count": 11,
     "metadata": {},
     "output_type": "execute_result"
    }
   ],
   "source": [
    "#Creating a dictionary to count the races\n",
    "\n",
    "race_counts = {}\n",
    "for race in races:\n",
    "    if race not in race_counts:\n",
    "        race_counts[race] = 0\n",
    "    race_counts[race] += 1\n",
    "race_counts"
   ]
  },
  {
   "cell_type": "markdown",
   "metadata": {},
   "source": [
    "From the data we can observe: \n",
    "\n",
    "- White people have had the highest number of deaths related to Guns in the US.\n",
    "- Native Americans have had the lowest number of deaths related to Guns in the US.\n",
    "- This could be due to White poeple representing the largest number of the demographic in\n",
    "  the US.\n",
    "- Additionally the lower number of deaths for Native Americans and Asian/Pacific Islander \n",
    "  could be due to the face that they represent the lowest number of the demographic in the \n",
    "  US"
   ]
  },
  {
   "cell_type": "code",
   "execution_count": 12,
   "metadata": {},
   "outputs": [],
   "source": [
    "#Creating a list of the Sexes\n",
    "\n",
    "sexes = [row[5] for row in data_list]"
   ]
  },
  {
   "cell_type": "code",
   "execution_count": 38,
   "metadata": {},
   "outputs": [
    {
     "data": {
      "text/plain": [
       "{'F': 14449, 'M': 86349}"
      ]
     },
     "execution_count": 38,
     "metadata": {},
     "output_type": "execute_result"
    }
   ],
   "source": [
    "#Creating a dictionary to count the unique sexes\n",
    "\n",
    "sex_counts = {}\n",
    "for sex in sexes:\n",
    "    if sex not in sex_counts:\n",
    "        sex_counts[sex] = 0\n",
    "    sex_counts[sex] += 1\n",
    "sex_counts"
   ]
  },
  {
   "cell_type": "markdown",
   "metadata": {},
   "source": [
    "From the data we can observe that\n",
    "\n",
    "- Males have the highest number of deaths while Females have the lowest deaths. \n",
    "- The ratio of Male:Female deaths is 6\n",
    "- The ratio of Male:Female in the US is 1.06\n",
    "- This is a dispropotionatly high number of deaths related to Guns for the males. \n",
    "- This points to the observation that this could be due to the fact that more males carry guns\n",
    "  in the US rather than the females."
   ]
  },
  {
   "cell_type": "markdown",
   "metadata": {},
   "source": [
    "## Exploring deaths by intent and education\n",
    "\n",
    "In this section we explore to find patterns in gun deaths by intent and by the education of the \n",
    "individiual."
   ]
  },
  {
   "cell_type": "code",
   "execution_count": 51,
   "metadata": {},
   "outputs": [
    {
     "data": {
      "text/plain": [
       "{'Accidental': 1639,\n",
       " 'Homicide': 35176,\n",
       " 'NA': 1,\n",
       " 'Suicide': 63175,\n",
       " 'Undetermined': 807}"
      ]
     },
     "execution_count": 51,
     "metadata": {},
     "output_type": "execute_result"
    }
   ],
   "source": [
    "intents = [row[3] for row in data_list]\n",
    "\n",
    "intent_counts = {}\n",
    "for intent in intents:\n",
    "    if intent not in intent_counts:\n",
    "        intent_counts[intent] = 0\n",
    "    intent_counts[intent] += 1\n",
    "intent_counts"
   ]
  },
  {
   "cell_type": "markdown",
   "metadata": {},
   "source": [
    "From the data above we can observe:\n",
    "    \n",
    "- Gun deaths are highest for **Suicides**\n",
    "- While gun deaths are least for **Undetermined** cases\n",
    "- There is one missing value in our dataset.\n",
    "- There have been 35,176 cases of **homicides** in the US."
   ]
  },
  {
   "cell_type": "code",
   "execution_count": 54,
   "metadata": {},
   "outputs": [
    {
     "data": {
      "text/plain": [
       "{'BA+': 12946,\n",
       " 'HS/GED': 42927,\n",
       " 'Less than HS': 21823,\n",
       " 'NA': 1422,\n",
       " 'Some college': 21680}"
      ]
     },
     "execution_count": 54,
     "metadata": {},
     "output_type": "execute_result"
    }
   ],
   "source": [
    "educations = [row[10] for row in data_list]\n",
    "\n",
    "education_counts = {}\n",
    "for education in educations:\n",
    "    if education not in education_counts:\n",
    "        education_counts[education] = 0\n",
    "    education_counts[education] += 1\n",
    "education_counts"
   ]
  },
  {
   "cell_type": "markdown",
   "metadata": {},
   "source": [
    "From the data above we can observe: \n",
    "\n",
    "- The maximum number deaths involving guns have taken place for people with a \"HS/GED\" or High School\n",
    "  degree. \n",
    "- But we are not sure if they are people who are presently in high school or if they are people who \n",
    "  have graduated from high school.\n",
    "- In order to determine this we will filter by the age to check if most of the deaths are for people \n",
    "  greater than the age of 18 which means they are high school graduates or if they are under the age \n",
    "  of 18 which means that they are still in high school."
   ]
  },
  {
   "cell_type": "markdown",
   "metadata": {},
   "source": [
    "## Exploring gun deaths by age\n",
    "\n"
   ]
  },
  {
   "cell_type": "code",
   "execution_count": 59,
   "metadata": {},
   "outputs": [
    {
     "data": {
      "text/plain": [
       "{'0': 33,\n",
       " '1': 38,\n",
       " '10': 53,\n",
       " '100': 1,\n",
       " '101': 2,\n",
       " '102': 2,\n",
       " '107': 1,\n",
       " '11': 61,\n",
       " '12': 117,\n",
       " '13': 229,\n",
       " '14': 364,\n",
       " '15': 561,\n",
       " '16': 864,\n",
       " '17': 1185,\n",
       " '18': 1753,\n",
       " '19': 2065,\n",
       " '2': 50,\n",
       " '20': 2219,\n",
       " '21': 2504,\n",
       " '22': 2712,\n",
       " '23': 2472,\n",
       " '24': 2437,\n",
       " '25': 2230,\n",
       " '26': 2231,\n",
       " '27': 2070,\n",
       " '28': 1986,\n",
       " '29': 1955,\n",
       " '3': 66,\n",
       " '30': 1869,\n",
       " '31': 1833,\n",
       " '32': 1824,\n",
       " '33': 1700,\n",
       " '34': 1699,\n",
       " '35': 1631,\n",
       " '36': 1512,\n",
       " '37': 1500,\n",
       " '38': 1491,\n",
       " '39': 1389,\n",
       " '4': 54,\n",
       " '40': 1414,\n",
       " '41': 1485,\n",
       " '42': 1492,\n",
       " '43': 1527,\n",
       " '44': 1449,\n",
       " '45': 1372,\n",
       " '46': 1437,\n",
       " '47': 1532,\n",
       " '48': 1621,\n",
       " '49': 1669,\n",
       " '5': 43,\n",
       " '50': 1674,\n",
       " '51': 1755,\n",
       " '52': 1715,\n",
       " '53': 1708,\n",
       " '54': 1684,\n",
       " '55': 1596,\n",
       " '56': 1625,\n",
       " '57': 1472,\n",
       " '58': 1510,\n",
       " '59': 1430,\n",
       " '6': 50,\n",
       " '60': 1361,\n",
       " '61': 1306,\n",
       " '62': 1099,\n",
       " '63': 1041,\n",
       " '64': 1126,\n",
       " '65': 1039,\n",
       " '66': 998,\n",
       " '67': 865,\n",
       " '68': 868,\n",
       " '69': 879,\n",
       " '7': 43,\n",
       " '70': 883,\n",
       " '71': 791,\n",
       " '72': 736,\n",
       " '73': 737,\n",
       " '74': 671,\n",
       " '75': 676,\n",
       " '76': 582,\n",
       " '77': 575,\n",
       " '78': 598,\n",
       " '79': 573,\n",
       " '8': 32,\n",
       " '80': 546,\n",
       " '81': 563,\n",
       " '82': 520,\n",
       " '83': 552,\n",
       " '84': 490,\n",
       " '85': 440,\n",
       " '86': 407,\n",
       " '87': 312,\n",
       " '88': 340,\n",
       " '89': 245,\n",
       " '9': 47,\n",
       " '90': 208,\n",
       " '91': 176,\n",
       " '92': 128,\n",
       " '93': 103,\n",
       " '94': 64,\n",
       " '95': 55,\n",
       " '96': 40,\n",
       " '97': 20,\n",
       " '98': 16,\n",
       " '99': 6,\n",
       " 'NA': 18}"
      ]
     },
     "execution_count": 59,
     "metadata": {},
     "output_type": "execute_result"
    }
   ],
   "source": [
    "ages = [row[6] for row in data_list]\n",
    "\n",
    "age_counts = {}\n",
    "for age in ages:\n",
    "    if age not in age_counts:\n",
    "        age_counts[age] = 0\n",
    "    age_counts[age] += 1\n",
    "age_counts"
   ]
  },
  {
   "cell_type": "markdown",
   "metadata": {},
   "source": [
    "From the results above:\n",
    "    \n",
    "- We can see that most of the deaths occured for people above the age of 18.\n",
    "- Hence we can confirm that most deaths due to guns have taken place for high school graduates. "
   ]
  },
  {
   "cell_type": "markdown",
   "metadata": {},
   "source": [
    "## Working with the Census data \n",
    "\n",
    "Now while we have the total Gun deaths by Race and Sex in the US, it's not very useful unless\n",
    "we know the propotion of deaths with respect to the total population in the Country.\n",
    "\n",
    "For the next section we are going to be working with the census data to figure out how relative \n",
    "the deaths are with respect to the total population in the U.S."
   ]
  },
  {
   "cell_type": "code",
   "execution_count": 13,
   "metadata": {},
   "outputs": [],
   "source": [
    "import csv\n",
    "\n",
    "with open(\"census.csv\", \"r\") as f:\n",
    "    reader = csv.reader(f)\n",
    "    census = list(reader)"
   ]
  },
  {
   "cell_type": "markdown",
   "metadata": {},
   "source": [
    "### Computing rate of gun deathes per race\n",
    "\n",
    "In order to do this we map the total population of every race from the census data \n",
    "into a dictionary:"
   ]
  },
  {
   "cell_type": "code",
   "execution_count": 41,
   "metadata": {
    "collapsed": true
   },
   "outputs": [],
   "source": [
    "mapping = {\n",
    "    \"Asian/Pacific Islander\": 15159516 + 674625,\n",
    "    \"Native American/Native Alaskan\": 3739506,\n",
    "    \"Black\": 40250635,\n",
    "    \"Hispanic\": 44618105,\n",
    "    \"White\": 197318956\n",
    "}"
   ]
  },
  {
   "cell_type": "code",
   "execution_count": 44,
   "metadata": {
    "collapsed": true
   },
   "outputs": [],
   "source": [
    "race_per_hundredk = {}\n",
    "\n",
    "for key, value in race_counts.items():\n",
    "    race_per_hundredk[key] = (value/mapping[key]) * 100000"
   ]
  },
  {
   "cell_type": "code",
   "execution_count": 45,
   "metadata": {},
   "outputs": [
    {
     "data": {
      "text/plain": [
       "{'Asian/Pacific Islander': 8.374309664161762,\n",
       " 'Black': 57.8773477735196,\n",
       " 'Hispanic': 20.220491210910907,\n",
       " 'Native American/Native Alaskan': 24.521955573811088,\n",
       " 'White': 33.56849303419181}"
      ]
     },
     "execution_count": 45,
     "metadata": {},
     "output_type": "execute_result"
    }
   ],
   "source": [
    "race_per_hundredk"
   ]
  },
  {
   "cell_type": "markdown",
   "metadata": {},
   "source": [
    "From the data dictionary above we can observe that:\n",
    "    \n",
    "- There has been 8.3 deaths per 100,000 **Asian/Pacific Islander** people.\n",
    "- There has been 57.87 deaths per 100,000 **Black** people.\n",
    "- There has been 20.22 deaths per 100,000 **Hispanic** people.\n",
    "- There has been 24.52 deaths per 100,000 **Native American/Native Alaskan** people.\n",
    "- There has been 33.5 deaths per 100,000 **White** people. \n",
    "\n",
    "Thus we can see that the maximum deaths due to guns have taken place for \n",
    "\n",
    "- Black people\n",
    "\n",
    "While the minimum deaths due to guns have taken place for\n",
    "\n",
    "- Asian/Pacific Islander people"
   ]
  },
  {
   "cell_type": "markdown",
   "metadata": {},
   "source": [
    "### Filtering deaths by intent\n",
    "\n",
    "We can filter the deaths by the intent or reason behind it. For this let's convert the \n",
    "intent column in a list:"
   ]
  },
  {
   "cell_type": "code",
   "execution_count": 14,
   "metadata": {},
   "outputs": [],
   "source": [
    "intents = [row[3] for row in data_list]"
   ]
  },
  {
   "cell_type": "markdown",
   "metadata": {},
   "source": [
    "We want to determine which gun deaths have been a result of homicide and categorize this \n",
    "by the race so that we can determine the deaths due to a murderous intent. "
   ]
  },
  {
   "cell_type": "code",
   "execution_count": 49,
   "metadata": {},
   "outputs": [
    {
     "data": {
      "text/plain": [
       "{'Asian/Pacific Islander': 3.530346230970155,\n",
       " 'Black': 48.471284987180944,\n",
       " 'Hispanic': 12.627161104219914,\n",
       " 'Native American/Native Alaskan': 8.717729026240365,\n",
       " 'White': 4.6356417981453335}"
      ]
     },
     "execution_count": 49,
     "metadata": {},
     "output_type": "execute_result"
    }
   ],
   "source": [
    "#Extracting the races column as a list\n",
    "races = [row[7] for row in data_list]\n",
    "\n",
    "#Creating a dictionary to store the counts for deaths by races due to homicide only\n",
    "homicide_race_counts = {}\n",
    "\n",
    "for i,race in enumerate(races):\n",
    "    \n",
    "    if race not in homicide_race_counts:\n",
    "        homicide_race_counts[race] = 0\n",
    "    if intents[i] == \"Homicide\":\n",
    "        homicide_race_counts[race] += 1\n",
    "        \n",
    "#Creating a dictionary to store the counts for deaths by races due to homicide per 100,000 people\n",
    "\n",
    "race_per_hundredk = {}\n",
    "for k,v in homicide_race_counts.items():\n",
    "    race_per_hundredk[k] = (v / mapping[k]) * 100000\n",
    "\n",
    "race_per_hundredk"
   ]
  },
  {
   "cell_type": "markdown",
   "metadata": {},
   "source": [
    "From the dictionary we can see that:\n",
    "\n",
    "- **Black** people have died the most due to homicide with 48.47 deaths per 100,000 people.\n",
    "- **Asian/Pacific Islander** have died the least due to homicide with 3.53 deaths per 100,000 people. "
   ]
  },
  {
   "cell_type": "markdown",
   "metadata": {},
   "source": [
    "# Conclusion\n",
    "\n",
    "From the project above we have:\n",
    "\n",
    "- Made use of **dictionaries**, **list comprehensions** and the **datetime** package in python to find patterns in \n",
    "  the gun death data for the race, gender, year, month, age, intent and education.\n",
    "- We have used the census data along with the gun death data to find the proportion of deaths per \n",
    "  100,000 people for each race and by intent. "
   ]
  }
 ],
 "metadata": {
  "kernelspec": {
   "display_name": "Python 3",
   "language": "python",
   "name": "python3"
  },
  "language_info": {
   "codemirror_mode": {
    "name": "ipython",
    "version": 3
   },
   "file_extension": ".py",
   "mimetype": "text/x-python",
   "name": "python",
   "nbconvert_exporter": "python",
   "pygments_lexer": "ipython3",
   "version": "3.6.1"
  }
 },
 "nbformat": 4,
 "nbformat_minor": 2
}
